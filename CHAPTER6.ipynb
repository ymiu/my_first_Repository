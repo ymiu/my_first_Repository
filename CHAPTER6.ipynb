{
  "nbformat": 4,
  "nbformat_minor": 0,
  "metadata": {
    "colab": {
      "name": "CHAPTER6.ipynb",
      "provenance": [],
      "authorship_tag": "ABX9TyNcn/K/3mfRf3ni0NvQrNM4",
      "include_colab_link": true
    },
    "kernelspec": {
      "name": "python3",
      "display_name": "Python 3"
    }
  },
  "cells": [
    {
      "cell_type": "markdown",
      "metadata": {
        "id": "view-in-github",
        "colab_type": "text"
      },
      "source": [
        "<a href=\"https://colab.research.google.com/github/ymiu/my_first_Repository/blob/main/CHAPTER6.ipynb\" target=\"_parent\"><img src=\"https://colab.research.google.com/assets/colab-badge.svg\" alt=\"Open In Colab\"/></a>"
      ]
    },
    {
      "cell_type": "code",
      "metadata": {
        "colab": {
          "base_uri": "https://localhost:8080/",
          "height": 367
        },
        "id": "xRcSfMmMkdpu",
        "outputId": "843fc1e4-0e73-470c-9839-18901a36cba9"
      },
      "source": [
        "from tkinter import *\r\n",
        "\r\n",
        "# ランダムないろを返す関数\r\n",
        "def random_color():\r\n",
        "    #ランダムに色の配色を決定\r\n",
        "    from random import randint #randomモジュールからrandint()関数をimport\r\n",
        "    rnd = lambda : randint(0,255)\r\n",
        "\r\n",
        "    r = rnd()\r\n",
        "    g = rnd()\r\n",
        "    b = 255\r\n",
        "    #HTMLの色に変換\r\n",
        "    f = '#{0:02x}{1:02x}{2:02x}' #３つの値を受け取って16進数にするため指定\r\n",
        "    color = f.format(r,g,b,)# rgbの値をformat()により16進数に変換\r\n",
        "    return color\r\n",
        "\r\n",
        "#たくさん円を描写する \r\n",
        "def draw_circles():\r\n",
        "    #画面を初期化\r\n",
        "    cv.delete('all')\r\n",
        "    #繰り返し円を描写\r\n",
        "    for y in range(20):\r\n",
        "        y1 = y * 20 #1回目は「０」、２回目は「２０」、２０回目は「３００」\r\n",
        "        y2 = y1 + 20 #1回目は「２０」、２回目は「４０」、２０回目は「４００」\r\n",
        "        for x in range(30):\r\n",
        "            x1 = x * 20 #1回目は「０」、２回目は「２０」、２０回目は「400」\r\n",
        "            x2 = x1 +20 #1回目は「２０」、２回目は「４０」、２０回目は「500」\r\n",
        "            # 円を描写\r\n",
        "            color = random_color()\r\n",
        "            cv.create_oval(x1,y1,x2,y2,fill=color,width=0)#（x1,y1）から（x2,y2）への円を描写\r\n",
        "    #0.1秒後に再描写\r\n",
        "    win.after(100, draw_circles)\r\n",
        "# ウィンドウを作成 --- (*1)\r\n",
        "win = Tk()\r\n",
        "\r\n",
        "# 描画のためキャンバスを作成 --- (*2)\r\n",
        "cv = Canvas(win, width = 600, height = 400)\r\n",
        "cv.pack() # ウィンドウ全体に載せる\r\n",
        "win.after(1,draw_circles)#円を描写\r\n",
        "# メインループを実行 --- (*3)\r\n",
        "win.mainloop()"
      ],
      "execution_count": null,
      "outputs": [
        {
          "output_type": "error",
          "ename": "TclError",
          "evalue": "ignored",
          "traceback": [
            "\u001b[0;31m---------------------------------------------------------------------------\u001b[0m",
            "\u001b[0;31mTclError\u001b[0m                                  Traceback (most recent call last)",
            "\u001b[0;32m<ipython-input-1-ea05d61b674b>\u001b[0m in \u001b[0;36m<module>\u001b[0;34m()\u001b[0m\n\u001b[1;32m     32\u001b[0m     \u001b[0mwin\u001b[0m\u001b[0;34m.\u001b[0m\u001b[0mafter\u001b[0m\u001b[0;34m(\u001b[0m\u001b[0;36m100\u001b[0m\u001b[0;34m,\u001b[0m \u001b[0mdraw_circles\u001b[0m\u001b[0;34m)\u001b[0m\u001b[0;34m\u001b[0m\u001b[0;34m\u001b[0m\u001b[0m\n\u001b[1;32m     33\u001b[0m \u001b[0;31m# ウィンドウを作成 --- (*1)\u001b[0m\u001b[0;34m\u001b[0m\u001b[0;34m\u001b[0m\u001b[0;34m\u001b[0m\u001b[0m\n\u001b[0;32m---> 34\u001b[0;31m \u001b[0mwin\u001b[0m \u001b[0;34m=\u001b[0m \u001b[0mTk\u001b[0m\u001b[0;34m(\u001b[0m\u001b[0;34m)\u001b[0m\u001b[0;34m\u001b[0m\u001b[0;34m\u001b[0m\u001b[0m\n\u001b[0m\u001b[1;32m     35\u001b[0m \u001b[0;34m\u001b[0m\u001b[0m\n\u001b[1;32m     36\u001b[0m \u001b[0;31m# 描画のためキャンバスを作成 --- (*2)\u001b[0m\u001b[0;34m\u001b[0m\u001b[0;34m\u001b[0m\u001b[0;34m\u001b[0m\u001b[0m\n",
            "\u001b[0;32m/usr/lib/python3.6/tkinter/__init__.py\u001b[0m in \u001b[0;36m__init__\u001b[0;34m(self, screenName, baseName, className, useTk, sync, use)\u001b[0m\n\u001b[1;32m   2021\u001b[0m                 \u001b[0mbaseName\u001b[0m \u001b[0;34m=\u001b[0m \u001b[0mbaseName\u001b[0m \u001b[0;34m+\u001b[0m \u001b[0mext\u001b[0m\u001b[0;34m\u001b[0m\u001b[0;34m\u001b[0m\u001b[0m\n\u001b[1;32m   2022\u001b[0m         \u001b[0minteractive\u001b[0m \u001b[0;34m=\u001b[0m \u001b[0;36m0\u001b[0m\u001b[0;34m\u001b[0m\u001b[0;34m\u001b[0m\u001b[0m\n\u001b[0;32m-> 2023\u001b[0;31m         \u001b[0mself\u001b[0m\u001b[0;34m.\u001b[0m\u001b[0mtk\u001b[0m \u001b[0;34m=\u001b[0m \u001b[0m_tkinter\u001b[0m\u001b[0;34m.\u001b[0m\u001b[0mcreate\u001b[0m\u001b[0;34m(\u001b[0m\u001b[0mscreenName\u001b[0m\u001b[0;34m,\u001b[0m \u001b[0mbaseName\u001b[0m\u001b[0;34m,\u001b[0m \u001b[0mclassName\u001b[0m\u001b[0;34m,\u001b[0m \u001b[0minteractive\u001b[0m\u001b[0;34m,\u001b[0m \u001b[0mwantobjects\u001b[0m\u001b[0;34m,\u001b[0m \u001b[0museTk\u001b[0m\u001b[0;34m,\u001b[0m \u001b[0msync\u001b[0m\u001b[0;34m,\u001b[0m \u001b[0muse\u001b[0m\u001b[0;34m)\u001b[0m\u001b[0;34m\u001b[0m\u001b[0;34m\u001b[0m\u001b[0m\n\u001b[0m\u001b[1;32m   2024\u001b[0m         \u001b[0;32mif\u001b[0m \u001b[0museTk\u001b[0m\u001b[0;34m:\u001b[0m\u001b[0;34m\u001b[0m\u001b[0;34m\u001b[0m\u001b[0m\n\u001b[1;32m   2025\u001b[0m             \u001b[0mself\u001b[0m\u001b[0;34m.\u001b[0m\u001b[0m_loadtk\u001b[0m\u001b[0;34m(\u001b[0m\u001b[0;34m)\u001b[0m\u001b[0;34m\u001b[0m\u001b[0;34m\u001b[0m\u001b[0m\n",
            "\u001b[0;31mTclError\u001b[0m: no display name and no $DISPLAY environment variable"
          ]
        }
      ]
    }
  ]
}